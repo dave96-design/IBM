{
 "cells": [
  {
   "cell_type": "markdown",
   "id": "2744861a",
   "metadata": {},
   "source": [
    "##Data Science Tools and Ecosystem"
   ]
  },
  {
   "cell_type": "markdown",
   "id": "e500d0ca",
   "metadata": {},
   "source": [
    "In this notebook, we summarize some of the key tools, libraries, and languages used in the field of Data Science."
   ]
  },
  {
   "cell_type": "markdown",
   "id": "67362aee",
   "metadata": {},
   "source": [
    "Some of the popular languages used by data scientists include:\n",
    "- Python  \n",
    "- R  \n",
    "- SQL  \n",
    "- Julia  \n",
    "- Scala "
   ]
  },
  {
   "cell_type": "markdown",
   "id": "1408e9a5",
   "metadata": {},
   "source": [
    "Common libraries used in data science include:\n",
    "- Pandas  \n",
    "- NumPy  \n",
    "- Matplotlib  \n",
    "- Scikit-learn  \n",
    "- TensorFlow  "
   ]
  },
  {
   "cell_type": "markdown",
   "id": "b6f485c1",
   "metadata": {},
   "source": [
    "| Tool            | Type               | Description                        |\n",
    "|-----------------|--------------------|------------------------------------|\n",
    "| Jupyter Notebook| IDE/Notebook       | Interactive coding environment     |\n",
    "| RStudio         | IDE                | IDE for R and Python               |\n",
    "| Apache Spark    | Big Data Framework | Fast processing of big data        |"
   ]
  },
  {
   "cell_type": "markdown",
   "id": "db7e1731",
   "metadata": {},
   "source": [
    "Below are some examples of evaluating arithmetic expressions in Python:\n",
    "\n",
    "- **Addition**: `3 + 5 = 8`  \n",
    "- **Subtraction**: `10 - 4 = 6`  \n",
    "- **Multiplication**: `6 * 7 = 42`  \n",
    "- **Division**: `20 / 4 = 5.0`  \n",
    "- **Exponentiation**: `2 ** 3 = 8`  \n",
    "- **Modulus**: `10 % 3 = 1`"
   ]
  },
  {
   "cell_type": "code",
   "execution_count": null,
   "id": "8f91d9d7",
   "metadata": {},
   "outputs": [],
   "source": [
    "# Exercise 8 - Multiply and Add\n",
    "# This expression multiplies 3 by 4 and then adds 5\n",
    "(3 * 4) + 5"
   ]
  },
  {
   "cell_type": "code",
   "execution_count": null,
   "id": "e1f895c3",
   "metadata": {},
   "outputs": [],
   "source": [
    "# Exercise 9 - Convert minutes to hours\n",
    "# Convert 200 minutes to hours\n",
    "minutes = 200\n",
    "hours = minutes / 60\n",
    "hours"
   ]
  },
  {
   "cell_type": "markdown",
   "id": "b9f6db54",
   "metadata": {},
   "source": [
    "# Exercise 10 - Objectives\n",
    "- List languages used in Data Science  \n",
    "- Introduce common libraries and tools  \n",
    "- Practice basic arithmetic operations  \n",
    "- Learn to create and share Jupyter Notebooks  "
   ]
  },
  {
   "cell_type": "markdown",
   "id": "018da5d9",
   "metadata": {},
   "source": [
    "# Exercise 11 - Author\n",
    "**Author**: David Adolfo Páez Molina"
   ]
  },
  {
   "cell_type": "markdown",
   "id": "319b7910",
   "metadata": {},
   "source": [
    "# Exercise 12 - GitHub\n",
    "Notebook shared via GitHub repository:\n",
    "[GitHub Repo Link](https://github.com/yourusername/your-repo-name)"
   ]
  }
 ],
 "metadata": {
  "kernelspec": {
   "display_name": "Python 3",
   "language": "python",
   "name": "python3"
  },
  "language_info": {
   "codemirror_mode": {
    "name": "ipython",
    "version": 3
   },
   "file_extension": ".py",
   "mimetype": "text/x-python",
   "name": "python",
   "nbconvert_exporter": "python",
   "pygments_lexer": "ipython3",
   "version": "3.13.2"
  }
 },
 "nbformat": 4,
 "nbformat_minor": 5
}
